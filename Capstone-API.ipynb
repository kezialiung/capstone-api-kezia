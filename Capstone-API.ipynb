{
 "cells": [
  {
   "cell_type": "code",
   "execution_count": 1,
   "metadata": {},
   "outputs": [],
   "source": [
    "import pandas as pd"
   ]
  },
  {
   "cell_type": "code",
   "execution_count": 3,
   "metadata": {},
   "outputs": [],
   "source": [
    "import flask"
   ]
  },
  {
   "cell_type": "code",
   "execution_count": 5,
   "metadata": {},
   "outputs": [],
   "source": [
    "import gunicorn"
   ]
  },
  {
   "cell_type": "code",
   "execution_count": 18,
   "metadata": {},
   "outputs": [],
   "source": [
    "import requests"
   ]
  },
  {
   "cell_type": "code",
   "execution_count": 19,
   "metadata": {},
   "outputs": [],
   "source": [
    "import sqlite3"
   ]
  },
  {
   "cell_type": "code",
   "execution_count": 20,
   "metadata": {},
   "outputs": [],
   "source": [
    "conn = sqlite3.connect('data/chinook.db')"
   ]
  },
  {
   "cell_type": "code",
   "execution_count": 21,
   "metadata": {
    "scrolled": true
   },
   "outputs": [
    {
     "output_type": "execute_result",
     "data": {
      "text/plain": "         FullName Country InvoiceDate             Genre  Quantity  Total  \\\n0  Luís Gonçalves  Brazil  2010-03-11  Sci Fi & Fantasy         1   3.98   \n1  Luís Gonçalves  Brazil  2010-03-11  Sci Fi & Fantasy         1   3.98   \n2  Luís Gonçalves  Brazil  2010-06-13              Rock         1   3.96   \n3  Luís Gonçalves  Brazil  2010-06-13              Rock         1   3.96   \n4  Luís Gonçalves  Brazil  2010-06-13              Rock         1   3.96   \n\n   Month  \n0  March  \n1  March  \n2   June  \n3   June  \n4   June  ",
      "text/html": "<div>\n<style scoped>\n    .dataframe tbody tr th:only-of-type {\n        vertical-align: middle;\n    }\n\n    .dataframe tbody tr th {\n        vertical-align: top;\n    }\n\n    .dataframe thead th {\n        text-align: right;\n    }\n</style>\n<table border=\"1\" class=\"dataframe\">\n  <thead>\n    <tr style=\"text-align: right;\">\n      <th></th>\n      <th>FullName</th>\n      <th>Country</th>\n      <th>InvoiceDate</th>\n      <th>Genre</th>\n      <th>Quantity</th>\n      <th>Total</th>\n      <th>Month</th>\n    </tr>\n  </thead>\n  <tbody>\n    <tr>\n      <th>0</th>\n      <td>Luís Gonçalves</td>\n      <td>Brazil</td>\n      <td>2010-03-11</td>\n      <td>Sci Fi &amp; Fantasy</td>\n      <td>1</td>\n      <td>3.98</td>\n      <td>March</td>\n    </tr>\n    <tr>\n      <th>1</th>\n      <td>Luís Gonçalves</td>\n      <td>Brazil</td>\n      <td>2010-03-11</td>\n      <td>Sci Fi &amp; Fantasy</td>\n      <td>1</td>\n      <td>3.98</td>\n      <td>March</td>\n    </tr>\n    <tr>\n      <th>2</th>\n      <td>Luís Gonçalves</td>\n      <td>Brazil</td>\n      <td>2010-06-13</td>\n      <td>Rock</td>\n      <td>1</td>\n      <td>3.96</td>\n      <td>June</td>\n    </tr>\n    <tr>\n      <th>3</th>\n      <td>Luís Gonçalves</td>\n      <td>Brazil</td>\n      <td>2010-06-13</td>\n      <td>Rock</td>\n      <td>1</td>\n      <td>3.96</td>\n      <td>June</td>\n    </tr>\n    <tr>\n      <th>4</th>\n      <td>Luís Gonçalves</td>\n      <td>Brazil</td>\n      <td>2010-06-13</td>\n      <td>Rock</td>\n      <td>1</td>\n      <td>3.96</td>\n      <td>June</td>\n    </tr>\n  </tbody>\n</table>\n</div>"
     },
     "metadata": {},
     "execution_count": 21
    }
   ],
   "source": [
    "data = pd.read_sql_query(\"SELECT (c.firstname || ' ' || c.lastname) as FullName, \\\n",
    "i.BillingCountry as Country, i.InvoiceDate, g.Name as Genre, it.Quantity, round(i.Total,2) as Total \\\n",
    "FROM customers as c \\\n",
    "LEFT JOIN invoices as i ON i.customerid = c.customerid \\\n",
    "LEFT JOIN invoice_items as it ON it.invoiceid = i.invoiceid \\\n",
    "LEFT JOIN tracks as t ON t.trackid = it.trackid \\\n",
    "LEFT JOIN genres as g ON g.genreid = t.genreid\", conn, parse_dates= 'InvoiceDate')\n",
    "data['Month'] = data['InvoiceDate'].dt.month_name()\n",
    "monthorder = ['January','February','March','April','May','June','July','August','September','October','November','December']\n",
    "data['Month'] = pd.Categorical(data['Month'],\n",
    "                                         categories=monthorder,\n",
    "                                         ordered=True)\n",
    "data.head()"
   ]
  },
  {
   "cell_type": "code",
   "execution_count": 22,
   "metadata": {},
   "outputs": [
    {
     "output_type": "execute_result",
     "data": {
      "text/plain": "Country         Genre               Month    \nArgentina       Alternative & Punk  March        27.72\n                                    September     7.92\n                                    November     44.55\n                Easy Listening      March        27.72\n                Jazz                January       3.96\n                                                 ...  \nUnited Kingdom  Rock                June         91.08\n                                    July          1.98\n                                    August       27.72\n                                    October      83.16\n                World               October      13.86\nLength: 573, dtype: float64"
     },
     "metadata": {},
     "execution_count": 22
    }
   ],
   "source": [
    "genre_country = pd.pivot_table(data=data,index='Month',columns=['Country','Genre'],values='Total', aggfunc=sum)\n",
    "genre_country = genre_country.unstack(level=0).dropna()\n",
    "genre_country"
   ]
  },
  {
   "cell_type": "code",
   "execution_count": 23,
   "metadata": {},
   "outputs": [
    {
     "output_type": "execute_result",
     "data": {
      "text/plain": "            FullName               Genre  value\n16     Frank Ralston         Alternative  79.30\n24  Isabelle Mercier         Alternative  67.44\n92       Kathy Chase  Alternative & Punk  15.84\n93   Ladislav Kovács  Alternative & Punk   9.90\n94     Leonie Köhler  Alternative & Punk  17.82",
      "text/html": "<div>\n<style scoped>\n    .dataframe tbody tr th:only-of-type {\n        vertical-align: middle;\n    }\n\n    .dataframe tbody tr th {\n        vertical-align: top;\n    }\n\n    .dataframe thead th {\n        text-align: right;\n    }\n</style>\n<table border=\"1\" class=\"dataframe\">\n  <thead>\n    <tr style=\"text-align: right;\">\n      <th></th>\n      <th>FullName</th>\n      <th>Genre</th>\n      <th>value</th>\n    </tr>\n  </thead>\n  <tbody>\n    <tr>\n      <th>16</th>\n      <td>Frank Ralston</td>\n      <td>Alternative</td>\n      <td>79.30</td>\n    </tr>\n    <tr>\n      <th>24</th>\n      <td>Isabelle Mercier</td>\n      <td>Alternative</td>\n      <td>67.44</td>\n    </tr>\n    <tr>\n      <th>92</th>\n      <td>Kathy Chase</td>\n      <td>Alternative &amp; Punk</td>\n      <td>15.84</td>\n    </tr>\n    <tr>\n      <th>93</th>\n      <td>Ladislav Kovács</td>\n      <td>Alternative &amp; Punk</td>\n      <td>9.90</td>\n    </tr>\n    <tr>\n      <th>94</th>\n      <td>Leonie Köhler</td>\n      <td>Alternative &amp; Punk</td>\n      <td>17.82</td>\n    </tr>\n  </tbody>\n</table>\n</div>"
     },
     "metadata": {},
     "execution_count": 23
    }
   ],
   "source": [
    "sales = pd.pivot_table(data=data,\n",
    "                                   index='FullName',\n",
    "                                   columns='Genre',\n",
    "                                  values='Total',\n",
    "                                  aggfunc=sum)\n",
    "sales = sales.reset_index().melt(id_vars = 'FullName')\n",
    "sales = sales[sales['value'].notna()]\n",
    "month = data['Month'] == 'December'\n",
    "sales = sales[month]\n",
    "sales.head()"
   ]
  },
  {
   "cell_type": "code",
   "execution_count": null,
   "metadata": {},
   "outputs": [],
   "source": []
  },
  {
   "cell_type": "code",
   "execution_count": null,
   "metadata": {},
   "outputs": [],
   "source": []
  },
  {
   "cell_type": "code",
   "execution_count": null,
   "metadata": {},
   "outputs": [],
   "source": []
  }
 ],
 "metadata": {
  "kernelspec": {
   "display_name": "Python 3.8.2 64-bit ('capstone-api': conda)",
   "language": "python",
   "name": "python38264bitcapstoneapiconda2fc097f14ae241a08507579b533af28d"
  },
  "language_info": {
   "codemirror_mode": {
    "name": "ipython",
    "version": 3
   },
   "file_extension": ".py",
   "mimetype": "text/x-python",
   "name": "python",
   "nbconvert_exporter": "python",
   "pygments_lexer": "ipython3",
   "version": "3.8.2-final"
  }
 },
 "nbformat": 4,
 "nbformat_minor": 4
}