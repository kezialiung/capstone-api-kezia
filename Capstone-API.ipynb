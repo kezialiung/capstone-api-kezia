{
 "cells": [
  {
   "cell_type": "code",
   "execution_count": 23,
   "metadata": {},
   "outputs": [],
   "source": [
    "import pandas as pd"
   ]
  },
  {
   "cell_type": "code",
   "execution_count": 24,
   "metadata": {},
   "outputs": [],
   "source": [
    "import flask"
   ]
  },
  {
   "cell_type": "code",
   "execution_count": 25,
   "metadata": {},
   "outputs": [],
   "source": [
    "import gunicorn"
   ]
  },
  {
   "cell_type": "code",
   "execution_count": 26,
   "metadata": {},
   "outputs": [],
   "source": [
    "import requests"
   ]
  },
  {
   "cell_type": "code",
   "execution_count": 27,
   "metadata": {},
   "outputs": [],
   "source": [
    "import sqlite3"
   ]
  },
  {
   "cell_type": "code",
   "execution_count": 28,
   "metadata": {},
   "outputs": [],
   "source": [
    "conn = sqlite3.connect('data/chinook.db')"
   ]
  },
  {
   "cell_type": "code",
   "execution_count": 29,
   "metadata": {
    "scrolled": true
   },
   "outputs": [
    {
     "output_type": "execute_result",
     "data": {
      "text/plain": "         FullName Country InvoiceDate             Genre  Quantity  Total  \\\n0  Luís Gonçalves  Brazil  2010-03-11  Sci Fi & Fantasy         1   3.98   \n1  Luís Gonçalves  Brazil  2010-03-11  Sci Fi & Fantasy         1   3.98   \n2  Luís Gonçalves  Brazil  2010-06-13              Rock         1   3.96   \n3  Luís Gonçalves  Brazil  2010-06-13              Rock         1   3.96   \n4  Luís Gonçalves  Brazil  2010-06-13              Rock         1   3.96   \n\n   Month  \n0  March  \n1  March  \n2   June  \n3   June  \n4   June  ",
      "text/html": "<div>\n<style scoped>\n    .dataframe tbody tr th:only-of-type {\n        vertical-align: middle;\n    }\n\n    .dataframe tbody tr th {\n        vertical-align: top;\n    }\n\n    .dataframe thead th {\n        text-align: right;\n    }\n</style>\n<table border=\"1\" class=\"dataframe\">\n  <thead>\n    <tr style=\"text-align: right;\">\n      <th></th>\n      <th>FullName</th>\n      <th>Country</th>\n      <th>InvoiceDate</th>\n      <th>Genre</th>\n      <th>Quantity</th>\n      <th>Total</th>\n      <th>Month</th>\n    </tr>\n  </thead>\n  <tbody>\n    <tr>\n      <th>0</th>\n      <td>Luís Gonçalves</td>\n      <td>Brazil</td>\n      <td>2010-03-11</td>\n      <td>Sci Fi &amp; Fantasy</td>\n      <td>1</td>\n      <td>3.98</td>\n      <td>March</td>\n    </tr>\n    <tr>\n      <th>1</th>\n      <td>Luís Gonçalves</td>\n      <td>Brazil</td>\n      <td>2010-03-11</td>\n      <td>Sci Fi &amp; Fantasy</td>\n      <td>1</td>\n      <td>3.98</td>\n      <td>March</td>\n    </tr>\n    <tr>\n      <th>2</th>\n      <td>Luís Gonçalves</td>\n      <td>Brazil</td>\n      <td>2010-06-13</td>\n      <td>Rock</td>\n      <td>1</td>\n      <td>3.96</td>\n      <td>June</td>\n    </tr>\n    <tr>\n      <th>3</th>\n      <td>Luís Gonçalves</td>\n      <td>Brazil</td>\n      <td>2010-06-13</td>\n      <td>Rock</td>\n      <td>1</td>\n      <td>3.96</td>\n      <td>June</td>\n    </tr>\n    <tr>\n      <th>4</th>\n      <td>Luís Gonçalves</td>\n      <td>Brazil</td>\n      <td>2010-06-13</td>\n      <td>Rock</td>\n      <td>1</td>\n      <td>3.96</td>\n      <td>June</td>\n    </tr>\n  </tbody>\n</table>\n</div>"
     },
     "metadata": {},
     "execution_count": 29
    }
   ],
   "source": [
    "data = pd.read_sql_query(\"SELECT (c.firstname || ' ' || c.lastname) as FullName, \\\n",
    "i.BillingCountry as Country, i.InvoiceDate, g.Name as Genre, it.Quantity, round(i.Total,2) as Total \\\n",
    "FROM customers as c \\\n",
    "LEFT JOIN invoices as i ON i.customerid = c.customerid \\\n",
    "LEFT JOIN invoice_items as it ON it.invoiceid = i.invoiceid \\\n",
    "LEFT JOIN tracks as t ON t.trackid = it.trackid \\\n",
    "LEFT JOIN genres as g ON g.genreid = t.genreid\", conn, parse_dates= 'InvoiceDate')\n",
    "data['Month'] = data['InvoiceDate'].dt.month_name()\n",
    "monthorder = ['January','February','March','April','May','June','July','August','September','October','November','December']\n",
    "data['Month'] = pd.Categorical(data['Month'],\n",
    "                                         categories=monthorder,\n",
    "                                         ordered=True)\n",
    "data.head()"
   ]
  },
  {
   "cell_type": "code",
   "execution_count": 30,
   "metadata": {},
   "outputs": [
    {
     "output_type": "execute_result",
     "data": {
      "text/plain": "Country         Genre               Month    \nArgentina       Alternative & Punk  March        27.72\n                                    September     7.92\n                                    November     44.55\n                Easy Listening      March        27.72\n                Jazz                January       3.96\n                                                 ...  \nUnited Kingdom  Rock                June         91.08\n                                    July          1.98\n                                    August       27.72\n                                    October      83.16\n                World               October      13.86\nLength: 573, dtype: float64"
     },
     "metadata": {},
     "execution_count": 30
    }
   ],
   "source": [
    "genre_country = pd.pivot_table(data=data,index='Month',columns=['Country','Genre'],values='Total', aggfunc=sum)\n",
    "genre_country = genre_country.unstack(level=0).dropna()\n",
    "genre_country"
   ]
  },
  {
   "cell_type": "code",
   "execution_count": 36,
   "metadata": {},
   "outputs": [
    {
     "output_type": "execute_result",
     "data": {
      "text/plain": "                   FullName               Genre   value\n16            Frank Ralston         Alternative   79.30\n24         Isabelle Mercier         Alternative   67.44\n92              Kathy Chase  Alternative & Punk   15.84\n93          Ladislav Kovács  Alternative & Punk    9.90\n94            Leonie Köhler  Alternative & Punk   17.82\n95            Lucas Mancini  Alternative & Punk   93.06\n96               Luis Rojas  Alternative & Punk   27.72\n99             Manoj Pareek  Alternative & Punk   26.73\n100             Marc Dubois  Alternative & Punk   16.83\n152         Ladislav Kovács               Blues   11.88\n153           Leonie Köhler               Blues   47.52\n432         Fynn Zimmermann      Easy Listening   27.72\n659          Edward Francis                Jazz   17.82\n702        Stanisław Wójcik                Jazz   13.86\n703            Steve Murray                Jazz    3.96\n704        Terhi Hämäläinen                Jazz    3.96\n705               Tim Goyer                Jazz   15.84\n707            Wyatt Girard                Jazz   27.72\n708          Aaron Mitchell               Latin  127.71\n749             Marc Dubois               Latin   93.06\n750            Mark Philips               Latin   45.54\n751             Mark Taylor               Latin    3.96\n752             Martha Silk               Latin   99.99\n796             John Gordon               Metal   87.12\n797          João Fernandes               Metal   13.86\n873            Patrick Gray                 Pop   11.88\n907             Helena Holý            R&B/Soul   17.82\n1028             Jack Smith                Rock   71.28\n1029      Jennifer Peterson                Rock  134.66\n1030       Joakim Johansson                Rock   85.14\n1031  Johannes Van der Berg                Rock  198.00\n1032            John Gordon                Rock   21.78\n1033         João Fernandes                Rock  127.77\n1034          Julia Barnett                Rock  176.22\n1035           Kara Nielsen                Rock  219.78\n1036            Kathy Chase                Rock   73.26\n1037        Ladislav Kovács                Rock   69.38\n1038          Leonie Köhler                Rock  150.48\n1039          Lucas Mancini                Rock  189.09\n1040             Luis Rojas                Rock   53.46\n1041         Luís Gonçalves                Rock   89.10\n1321          Hugh O'Reilly            TV Shows  153.02\n1322       Isabelle Mercier            TV Shows   16.86\n1323             Jack Smith            TV Shows   10.91\n1325       Joakim Johansson            TV Shows    6.94\n1328         João Fernandes            TV Shows   10.91\n1357         Aaron Mitchell               World   13.86\n1360           Bjørn Hansen               World   15.86",
      "text/html": "<div>\n<style scoped>\n    .dataframe tbody tr th:only-of-type {\n        vertical-align: middle;\n    }\n\n    .dataframe tbody tr th {\n        vertical-align: top;\n    }\n\n    .dataframe thead th {\n        text-align: right;\n    }\n</style>\n<table border=\"1\" class=\"dataframe\">\n  <thead>\n    <tr style=\"text-align: right;\">\n      <th></th>\n      <th>FullName</th>\n      <th>Genre</th>\n      <th>value</th>\n    </tr>\n  </thead>\n  <tbody>\n    <tr>\n      <th>16</th>\n      <td>Frank Ralston</td>\n      <td>Alternative</td>\n      <td>79.30</td>\n    </tr>\n    <tr>\n      <th>24</th>\n      <td>Isabelle Mercier</td>\n      <td>Alternative</td>\n      <td>67.44</td>\n    </tr>\n    <tr>\n      <th>92</th>\n      <td>Kathy Chase</td>\n      <td>Alternative &amp; Punk</td>\n      <td>15.84</td>\n    </tr>\n    <tr>\n      <th>93</th>\n      <td>Ladislav Kovács</td>\n      <td>Alternative &amp; Punk</td>\n      <td>9.90</td>\n    </tr>\n    <tr>\n      <th>94</th>\n      <td>Leonie Köhler</td>\n      <td>Alternative &amp; Punk</td>\n      <td>17.82</td>\n    </tr>\n    <tr>\n      <th>95</th>\n      <td>Lucas Mancini</td>\n      <td>Alternative &amp; Punk</td>\n      <td>93.06</td>\n    </tr>\n    <tr>\n      <th>96</th>\n      <td>Luis Rojas</td>\n      <td>Alternative &amp; Punk</td>\n      <td>27.72</td>\n    </tr>\n    <tr>\n      <th>99</th>\n      <td>Manoj Pareek</td>\n      <td>Alternative &amp; Punk</td>\n      <td>26.73</td>\n    </tr>\n    <tr>\n      <th>100</th>\n      <td>Marc Dubois</td>\n      <td>Alternative &amp; Punk</td>\n      <td>16.83</td>\n    </tr>\n    <tr>\n      <th>152</th>\n      <td>Ladislav Kovács</td>\n      <td>Blues</td>\n      <td>11.88</td>\n    </tr>\n    <tr>\n      <th>153</th>\n      <td>Leonie Köhler</td>\n      <td>Blues</td>\n      <td>47.52</td>\n    </tr>\n    <tr>\n      <th>432</th>\n      <td>Fynn Zimmermann</td>\n      <td>Easy Listening</td>\n      <td>27.72</td>\n    </tr>\n    <tr>\n      <th>659</th>\n      <td>Edward Francis</td>\n      <td>Jazz</td>\n      <td>17.82</td>\n    </tr>\n    <tr>\n      <th>702</th>\n      <td>Stanisław Wójcik</td>\n      <td>Jazz</td>\n      <td>13.86</td>\n    </tr>\n    <tr>\n      <th>703</th>\n      <td>Steve Murray</td>\n      <td>Jazz</td>\n      <td>3.96</td>\n    </tr>\n    <tr>\n      <th>704</th>\n      <td>Terhi Hämäläinen</td>\n      <td>Jazz</td>\n      <td>3.96</td>\n    </tr>\n    <tr>\n      <th>705</th>\n      <td>Tim Goyer</td>\n      <td>Jazz</td>\n      <td>15.84</td>\n    </tr>\n    <tr>\n      <th>707</th>\n      <td>Wyatt Girard</td>\n      <td>Jazz</td>\n      <td>27.72</td>\n    </tr>\n    <tr>\n      <th>708</th>\n      <td>Aaron Mitchell</td>\n      <td>Latin</td>\n      <td>127.71</td>\n    </tr>\n    <tr>\n      <th>749</th>\n      <td>Marc Dubois</td>\n      <td>Latin</td>\n      <td>93.06</td>\n    </tr>\n    <tr>\n      <th>750</th>\n      <td>Mark Philips</td>\n      <td>Latin</td>\n      <td>45.54</td>\n    </tr>\n    <tr>\n      <th>751</th>\n      <td>Mark Taylor</td>\n      <td>Latin</td>\n      <td>3.96</td>\n    </tr>\n    <tr>\n      <th>752</th>\n      <td>Martha Silk</td>\n      <td>Latin</td>\n      <td>99.99</td>\n    </tr>\n    <tr>\n      <th>796</th>\n      <td>John Gordon</td>\n      <td>Metal</td>\n      <td>87.12</td>\n    </tr>\n    <tr>\n      <th>797</th>\n      <td>João Fernandes</td>\n      <td>Metal</td>\n      <td>13.86</td>\n    </tr>\n    <tr>\n      <th>873</th>\n      <td>Patrick Gray</td>\n      <td>Pop</td>\n      <td>11.88</td>\n    </tr>\n    <tr>\n      <th>907</th>\n      <td>Helena Holý</td>\n      <td>R&amp;B/Soul</td>\n      <td>17.82</td>\n    </tr>\n    <tr>\n      <th>1028</th>\n      <td>Jack Smith</td>\n      <td>Rock</td>\n      <td>71.28</td>\n    </tr>\n    <tr>\n      <th>1029</th>\n      <td>Jennifer Peterson</td>\n      <td>Rock</td>\n      <td>134.66</td>\n    </tr>\n    <tr>\n      <th>1030</th>\n      <td>Joakim Johansson</td>\n      <td>Rock</td>\n      <td>85.14</td>\n    </tr>\n    <tr>\n      <th>1031</th>\n      <td>Johannes Van der Berg</td>\n      <td>Rock</td>\n      <td>198.00</td>\n    </tr>\n    <tr>\n      <th>1032</th>\n      <td>John Gordon</td>\n      <td>Rock</td>\n      <td>21.78</td>\n    </tr>\n    <tr>\n      <th>1033</th>\n      <td>João Fernandes</td>\n      <td>Rock</td>\n      <td>127.77</td>\n    </tr>\n    <tr>\n      <th>1034</th>\n      <td>Julia Barnett</td>\n      <td>Rock</td>\n      <td>176.22</td>\n    </tr>\n    <tr>\n      <th>1035</th>\n      <td>Kara Nielsen</td>\n      <td>Rock</td>\n      <td>219.78</td>\n    </tr>\n    <tr>\n      <th>1036</th>\n      <td>Kathy Chase</td>\n      <td>Rock</td>\n      <td>73.26</td>\n    </tr>\n    <tr>\n      <th>1037</th>\n      <td>Ladislav Kovács</td>\n      <td>Rock</td>\n      <td>69.38</td>\n    </tr>\n    <tr>\n      <th>1038</th>\n      <td>Leonie Köhler</td>\n      <td>Rock</td>\n      <td>150.48</td>\n    </tr>\n    <tr>\n      <th>1039</th>\n      <td>Lucas Mancini</td>\n      <td>Rock</td>\n      <td>189.09</td>\n    </tr>\n    <tr>\n      <th>1040</th>\n      <td>Luis Rojas</td>\n      <td>Rock</td>\n      <td>53.46</td>\n    </tr>\n    <tr>\n      <th>1041</th>\n      <td>Luís Gonçalves</td>\n      <td>Rock</td>\n      <td>89.10</td>\n    </tr>\n    <tr>\n      <th>1321</th>\n      <td>Hugh O'Reilly</td>\n      <td>TV Shows</td>\n      <td>153.02</td>\n    </tr>\n    <tr>\n      <th>1322</th>\n      <td>Isabelle Mercier</td>\n      <td>TV Shows</td>\n      <td>16.86</td>\n    </tr>\n    <tr>\n      <th>1323</th>\n      <td>Jack Smith</td>\n      <td>TV Shows</td>\n      <td>10.91</td>\n    </tr>\n    <tr>\n      <th>1325</th>\n      <td>Joakim Johansson</td>\n      <td>TV Shows</td>\n      <td>6.94</td>\n    </tr>\n    <tr>\n      <th>1328</th>\n      <td>João Fernandes</td>\n      <td>TV Shows</td>\n      <td>10.91</td>\n    </tr>\n    <tr>\n      <th>1357</th>\n      <td>Aaron Mitchell</td>\n      <td>World</td>\n      <td>13.86</td>\n    </tr>\n    <tr>\n      <th>1360</th>\n      <td>Bjørn Hansen</td>\n      <td>World</td>\n      <td>15.86</td>\n    </tr>\n  </tbody>\n</table>\n</div>"
     },
     "metadata": {},
     "execution_count": 36
    }
   ],
   "source": [
    "sales = pd.pivot_table(data=data,\n",
    "                                   index='FullName',\n",
    "                                   columns='Genre',\n",
    "                                  values='Total',\n",
    "                                  aggfunc=sum)\n",
    "sales = sales.reset_index().melt(id_vars = 'FullName')\n",
    "sales = sales[sales['value'].notna()]\n",
    "month = data['Month'] == 'December'\n",
    "sales = sales[month]\n",
    "sales\n"
   ]
  },
  {
   "cell_type": "code",
   "execution_count": null,
   "metadata": {},
   "outputs": [],
   "source": []
  },
  {
   "cell_type": "code",
   "execution_count": null,
   "metadata": {},
   "outputs": [],
   "source": []
  },
  {
   "cell_type": "code",
   "execution_count": null,
   "metadata": {},
   "outputs": [],
   "source": []
  }
 ],
 "metadata": {
  "kernelspec": {
   "display_name": "capstone-api",
   "language": "python",
   "name": "capstone-api"
  },
  "language_info": {
   "codemirror_mode": {
    "name": "ipython",
    "version": 3
   },
   "file_extension": ".py",
   "mimetype": "text/x-python",
   "name": "python",
   "nbconvert_exporter": "python",
   "pygments_lexer": "ipython3",
   "version": "3.8.2-final"
  }
 },
 "nbformat": 4,
 "nbformat_minor": 4
}