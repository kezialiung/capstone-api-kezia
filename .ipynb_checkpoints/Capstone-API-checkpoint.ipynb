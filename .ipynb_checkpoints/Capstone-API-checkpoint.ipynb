{
 "cells": [
  {
   "cell_type": "code",
   "execution_count": 17,
   "metadata": {},
   "outputs": [],
   "source": [
    "import pandas as pd"
   ]
  },
  {
   "cell_type": "code",
   "execution_count": 18,
   "metadata": {},
   "outputs": [],
   "source": [
    "import flask"
   ]
  },
  {
   "cell_type": "code",
   "execution_count": 19,
   "metadata": {},
   "outputs": [],
   "source": [
    "import gunicorn"
   ]
  },
  {
   "cell_type": "code",
   "execution_count": 20,
   "metadata": {},
   "outputs": [],
   "source": [
    "import requests"
   ]
  },
  {
   "cell_type": "code",
   "execution_count": 21,
   "metadata": {},
   "outputs": [],
   "source": [
    "import sqlite3"
   ]
  },
  {
   "cell_type": "code",
   "execution_count": 43,
   "metadata": {},
   "outputs": [],
   "source": [
    "conn = sqlite3.connect('data/chinook.db')"
   ]
  },
  {
   "cell_type": "code",
   "execution_count": 44,
   "metadata": {
    "scrolled": true
   },
   "outputs": [
    {
     "data": {
      "text/html": [
       "<div>\n",
       "<style scoped>\n",
       "    .dataframe tbody tr th:only-of-type {\n",
       "        vertical-align: middle;\n",
       "    }\n",
       "\n",
       "    .dataframe tbody tr th {\n",
       "        vertical-align: top;\n",
       "    }\n",
       "\n",
       "    .dataframe thead th {\n",
       "        text-align: right;\n",
       "    }\n",
       "</style>\n",
       "<table border=\"1\" class=\"dataframe\">\n",
       "  <thead>\n",
       "    <tr style=\"text-align: right;\">\n",
       "      <th></th>\n",
       "      <th>FullName</th>\n",
       "      <th>Country</th>\n",
       "      <th>InvoiceDate</th>\n",
       "      <th>Genre</th>\n",
       "      <th>Quantity</th>\n",
       "      <th>Total</th>\n",
       "      <th>Month</th>\n",
       "    </tr>\n",
       "  </thead>\n",
       "  <tbody>\n",
       "    <tr>\n",
       "      <th>0</th>\n",
       "      <td>Luís Gonçalves</td>\n",
       "      <td>Brazil</td>\n",
       "      <td>2010-03-11</td>\n",
       "      <td>Sci Fi &amp; Fantasy</td>\n",
       "      <td>1</td>\n",
       "      <td>3.98</td>\n",
       "      <td>March</td>\n",
       "    </tr>\n",
       "    <tr>\n",
       "      <th>1</th>\n",
       "      <td>Luís Gonçalves</td>\n",
       "      <td>Brazil</td>\n",
       "      <td>2010-03-11</td>\n",
       "      <td>Sci Fi &amp; Fantasy</td>\n",
       "      <td>1</td>\n",
       "      <td>3.98</td>\n",
       "      <td>March</td>\n",
       "    </tr>\n",
       "    <tr>\n",
       "      <th>2</th>\n",
       "      <td>Luís Gonçalves</td>\n",
       "      <td>Brazil</td>\n",
       "      <td>2010-06-13</td>\n",
       "      <td>Rock</td>\n",
       "      <td>1</td>\n",
       "      <td>3.96</td>\n",
       "      <td>June</td>\n",
       "    </tr>\n",
       "    <tr>\n",
       "      <th>3</th>\n",
       "      <td>Luís Gonçalves</td>\n",
       "      <td>Brazil</td>\n",
       "      <td>2010-06-13</td>\n",
       "      <td>Rock</td>\n",
       "      <td>1</td>\n",
       "      <td>3.96</td>\n",
       "      <td>June</td>\n",
       "    </tr>\n",
       "    <tr>\n",
       "      <th>4</th>\n",
       "      <td>Luís Gonçalves</td>\n",
       "      <td>Brazil</td>\n",
       "      <td>2010-06-13</td>\n",
       "      <td>Rock</td>\n",
       "      <td>1</td>\n",
       "      <td>3.96</td>\n",
       "      <td>June</td>\n",
       "    </tr>\n",
       "  </tbody>\n",
       "</table>\n",
       "</div>"
      ],
      "text/plain": [
       "         FullName Country InvoiceDate             Genre  Quantity  Total  \\\n",
       "0  Luís Gonçalves  Brazil  2010-03-11  Sci Fi & Fantasy         1   3.98   \n",
       "1  Luís Gonçalves  Brazil  2010-03-11  Sci Fi & Fantasy         1   3.98   \n",
       "2  Luís Gonçalves  Brazil  2010-06-13              Rock         1   3.96   \n",
       "3  Luís Gonçalves  Brazil  2010-06-13              Rock         1   3.96   \n",
       "4  Luís Gonçalves  Brazil  2010-06-13              Rock         1   3.96   \n",
       "\n",
       "   Month  \n",
       "0  March  \n",
       "1  March  \n",
       "2   June  \n",
       "3   June  \n",
       "4   June  "
      ]
     },
     "execution_count": 44,
     "metadata": {},
     "output_type": "execute_result"
    }
   ],
   "source": [
    "data = pd.read_sql_query(\"SELECT (c.firstname || ' ' || c.lastname) as FullName, \\\n",
    "i.BillingCountry as Country, i.InvoiceDate, g.Name as Genre, it.Quantity, i.Total \\\n",
    "FROM customers as c \\\n",
    "LEFT JOIN invoices as i ON i.customerid = c.customerid \\\n",
    "LEFT JOIN invoice_items as it ON it.invoiceid = i.invoiceid \\\n",
    "LEFT JOIN tracks as t ON t.trackid = it.trackid \\\n",
    "LEFT JOIN genres as g ON g.genreid = t.genreid\", conn, parse_dates= 'InvoiceDate')\n",
    "data['Month'] = data['InvoiceDate'].dt.month_name()\n",
    "data.head()"
   ]
  },
  {
   "cell_type": "code",
   "execution_count": 45,
   "metadata": {},
   "outputs": [
    {
     "data": {
      "text/plain": [
       "Country         Genre             \n",
       "Argentina       Alternative & Punk     80.19\n",
       "                Easy Listening         27.72\n",
       "                Jazz                    3.96\n",
       "                Latin                  91.08\n",
       "                Metal                  36.63\n",
       "                                       ...  \n",
       "United Kingdom  Pop                    17.82\n",
       "                R&B/Soul               27.72\n",
       "                Reggae                 44.55\n",
       "                Rock                  333.63\n",
       "                World                  13.86\n",
       "Name: Total, Length: 237, dtype: float64"
      ]
     },
     "execution_count": 45,
     "metadata": {},
     "output_type": "execute_result"
    }
   ],
   "source": [
    "genre_country = data.groupby(['Country', 'Genre']).Total.sum()\n",
    "genre_country"
   ]
  },
  {
   "cell_type": "code",
   "execution_count": null,
   "metadata": {},
   "outputs": [],
   "source": [
    "monthly_sales = data.pd_pivottable(data=data, \n",
    "                                   index='Country', \n",
    "                                   columns='')"
   ]
  }
 ],
 "metadata": {
  "kernelspec": {
   "display_name": "capstone-api",
   "language": "python",
   "name": "capstone-api"
  },
  "language_info": {
   "codemirror_mode": {
    "name": "ipython",
    "version": 3
   },
   "file_extension": ".py",
   "mimetype": "text/x-python",
   "name": "python",
   "nbconvert_exporter": "python",
   "pygments_lexer": "ipython3",
   "version": "3.8.2"
  }
 },
 "nbformat": 4,
 "nbformat_minor": 4
}
